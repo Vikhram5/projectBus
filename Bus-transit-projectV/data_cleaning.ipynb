{
 "cells": [
  {
   "cell_type": "code",
   "execution_count": 1,
   "id": "bbd4ddb2",
   "metadata": {
    "scrolled": true
   },
   "outputs": [
    {
     "name": "stdout",
     "output_type": "stream",
     "text": [
      "Enter File Name: 04-02-2019.csv\n",
      "Enter 'up' or 'down': down\n"
     ]
    }
   ],
   "source": [
    "import pandas as pd\n",
    "import numpy as np\n",
    "import os \n",
    "\n",
    "#input for any file name\n",
    "file_name=input(\"Enter File Name: \")\n",
    "journey=input(\"Enter 'up' or 'down': \").lower()\n",
    "file_path=os.path.join('week_data',journey, file_name)\n",
    "\n",
    "if not os.path.isfile(file_path):\n",
    "    print(f\"Error: File '{file_name}' does not exist.\")\n",
    "else:\n",
    "    df=pd.read_csv(file_path)\n"
   ]
  },
  {
   "cell_type": "code",
   "execution_count": 2,
   "id": "46f69411",
   "metadata": {
    "scrolled": true
   },
   "outputs": [],
   "source": [
    "#data renaming \n",
    "rename_stages = {\n",
    "    'THORAIPAKK|THURAIPAKK': 'THORAIPAKKAM',\n",
    "    'ANNA UNIVE': 'ANNA UNIV',\n",
    "    'MOOTAIKARA': 'M K CHAVADI',\n",
    "    'SHOZHANGAN|SHOZHINGAN': 'SHOLINGANALLUR',\n",
    "    'KELAMBAKKA':'KELAMBAKKAM',\n",
    "    'KOMAN NGR': 'KUMARAN NG',\n",
    "    'M.K. CHAVA': 'M K CHAVADI',\n",
    "    'WOMENS POL': 'WPTC',\n",
    "    'THIRUPPORU|TIRUPPORUR': 'THIRUPORUR'\n",
    "}\n",
    "df = df.replace(rename_stages, regex=True)\n",
    "\n",
    "df['Source'] = df['Source'].str.strip()\n",
    "df['Destination'] = df['Destination'].str.strip()\n",
    "df['From Stage'] = df['From Stage'].str.strip()\n",
    "df['To Stage'] = df['To Stage'].str.strip()\n",
    "\n",
    "\n",
    "#convertion of time to datetime format for calculation\n",
    "df['Trip Start Time'] = pd.to_datetime(df['Trip Start Time'], format='%H:%M:%S')\n",
    "df['Trip End Time'] = pd.to_datetime(df['Trip End Time'], format='%H:%M:%S')\n",
    "\n",
    "#calculation of duration \n",
    "df['Duration'] = df['Trip End Time'] - df['Trip Start Time']\n",
    "df['Trip Start Time'] = df['Trip Start Time'].dt.time\n",
    "df['Trip End Time'] = df['Trip End Time'].dt.time\n",
    "df['Duration'] = df['Duration'].apply(lambda x: str(x).split()[-1])\n",
    "\n",
    "df['Duration'] = df['Duration'].astype(str)\n",
    "df = df[~df['Duration'].str.contains('+', regex=False)]\n",
    "df = df[(df['Duration'] != '00:00:00') & (df['Duration'] != '00:01:00')]\n",
    "df.drop(columns=['Duration'],inplace=True)\n"
   ]
  },
  {
   "cell_type": "code",
   "execution_count": 3,
   "id": "fdd4e169",
   "metadata": {},
   "outputs": [
    {
     "name": "stdout",
     "output_type": "stream",
     "text": [
      "Enter File Name to store : 04-02-19.csv\n"
     ]
    }
   ],
   "source": [
    "file_name=input(\"Enter File Name to store : \")\n",
    "file_path=os.path.join('week_data',journey, file_name)\n",
    "\n",
    "df.to_csv(file_path,index=False)\n",
    "df=pd.read_csv(file_path)"
   ]
  },
  {
   "cell_type": "code",
   "execution_count": null,
   "id": "f4a8b964",
   "metadata": {},
   "outputs": [],
   "source": []
  },
  {
   "cell_type": "code",
   "execution_count": null,
   "id": "7017975b",
   "metadata": {},
   "outputs": [],
   "source": []
  }
 ],
 "metadata": {
  "kernelspec": {
   "display_name": "Python 3 (ipykernel)",
   "language": "python",
   "name": "python3"
  },
  "language_info": {
   "codemirror_mode": {
    "name": "ipython",
    "version": 3
   },
   "file_extension": ".py",
   "mimetype": "text/x-python",
   "name": "python",
   "nbconvert_exporter": "python",
   "pygments_lexer": "ipython3",
   "version": "3.11.5"
  }
 },
 "nbformat": 4,
 "nbformat_minor": 5
}
