{
 "cells": [
  {
   "cell_type": "code",
   "execution_count": null,
   "id": "935ad95a",
   "metadata": {},
   "outputs": [],
   "source": [
    "import pandas as pd\n",
    "import numpy as np\n",
    "import os \n",
    "\n",
    "#input for any file name\n",
    "file_name=input(\"Enter File Name: \")\n",
    "journey=\"down\"\n",
    "file_path=os.path.join('week_data',journey, file_name)\n",
    "\n",
    "if not os.path.isfile(file_path):\n",
    "    print(f\"Error: File '{file_name}' does not exist.\")\n",
    "else:\n",
    "    df=pd.read_csv(file_path)\n"
   ]
  },
  {
   "cell_type": "code",
   "execution_count": null,
   "id": "82f9902b",
   "metadata": {},
   "outputs": [],
   "source": [
    "cols=['Schedule Name','Adult','From Stage','To Stage','Trip Start Time','Trip End Time','Source','Destination']\n",
    "df=df[cols]\n",
    "\n",
    "name=input(\"Enter Schedule Name: \")\n",
    "source_stage=input(\"Enter Source: \")\n",
    "destination_stage=input(\"Enter Destination: \")\n",
    "start_time=input(\"Enter Trip Start Time \")\n",
    "end_time=input(\"Enter Trip End Time \")\n",
    "\n",
    "df=df[df['Schedule Name']==name]\n",
    "df=df[(df['Source'] == source_stage) & (df['Destination']==destination_stage)]\n",
    "df=df[(df['Trip Start Time']==start_time) & (df['Trip End Time']==end_time)]\n",
    "\n",
    "cols=['From Stage','To Stage','Adult']\n",
    "df=df[cols]"
   ]
  },
  {
   "cell_type": "code",
   "execution_count": null,
   "id": "eadfe929",
   "metadata": {},
   "outputs": [],
   "source": [
    "bus_stages = [\n",
    "    'THIRUPORUR', 'KALAVAKKAM', 'CHENGAMMAL', 'ENGG', 'KOMAN NAGAR',\n",
    "    'KELAMBAKKAM', 'HINDUSTAN', 'PAL. CHEMI', 'CHURCH', 'SIPCOT',\n",
    "    'NAVALUR', 'CHEMMANCHE', 'KUMARAN NG', 'SHOLINGANALLUR',\n",
    "    'KARAPAKKAM', 'M K CHAVADI', 'THORAIPAKKAM', 'KANDANCHAV', \n",
    "    'SRP TOOLS', 'WPTC', 'ANNA UNIV', 'CONCORDE', 'SAIDAPET', 'T.NAGAR'\n",
    "\n",
    "]\n",
    "\n",
    "stage_mapping = {stage: i for i, stage in enumerate(bus_stages)}\n",
    "\n",
    "df['From Stage'] = df['From Stage'].map(stage_mapping)\n",
    "df['To Stage'] = df['To Stage'].map(stage_mapping)\n",
    "\n",
    "df.dropna(subset=['From Stage', 'To Stage'], inplace=True)\n",
    "\n",
    "#TO DISPLAY IN BUS STAGE NAMES INSTEAD OF NUMBERS\n",
    "od_matrix = pd.DataFrame(index=bus_stages, columns=bus_stages).fillna(0)\n",
    "\n",
    "# Populate the matrix \n",
    "for index, row in df.iterrows():\n",
    "    source = bus_stages[int(row['From Stage'])]\n",
    "    destination = bus_stages[int(row['To Stage'])]\n",
    "    adult_count = row['Adult']\n",
    "    od_matrix.loc[source, destination] += adult_count if not pd.isna(adult_count) else 0\n",
    "\n",
    "od_matrix['Boarding'] = od_matrix.sum(axis=1)\n",
    "od_matrix.loc['ALIGHTING', :] = od_matrix.sum(axis=0)\n",
    "\n",
    "od_matrix"
   ]
  },
  {
   "cell_type": "code",
   "execution_count": null,
   "id": "50a29991",
   "metadata": {},
   "outputs": [],
   "source": [
    "store_file=input(\"Enter store file \")\n",
    "od_matrix.to_excel(store_file)"
   ]
  },
  {
   "cell_type": "code",
   "execution_count": null,
   "id": "136c98d7",
   "metadata": {},
   "outputs": [],
   "source": []
  }
 ],
 "metadata": {
  "kernelspec": {
   "display_name": "Python 3 (ipykernel)",
   "language": "python",
   "name": "python3"
  },
  "language_info": {
   "codemirror_mode": {
    "name": "ipython",
    "version": 3
   },
   "file_extension": ".py",
   "mimetype": "text/x-python",
   "name": "python",
   "nbconvert_exporter": "python",
   "pygments_lexer": "ipython3",
   "version": "3.11.5"
  }
 },
 "nbformat": 4,
 "nbformat_minor": 5
}
