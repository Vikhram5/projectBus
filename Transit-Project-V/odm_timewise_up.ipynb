{
 "cells": [
  {
   "cell_type": "code",
   "execution_count": 9,
   "id": "e0ce1d2e",
   "metadata": {},
   "outputs": [
    {
     "name": "stdout",
     "output_type": "stream",
     "text": [
      "Enter File Name: 04-02-19.csv\n",
      "Enter 'up' or 'down': up\n"
     ]
    }
   ],
   "source": [
    "import pandas as pd\n",
    "import numpy as np\n",
    "import os \n",
    "\n",
    "#input for any file name\n",
    "file_name=input(\"Enter File Name: \")\n",
    "journey=input(\"Enter 'up' or 'down': \").lower()\n",
    "file_path=os.path.join('week_data',journey, file_name)\n",
    "\n",
    "if not os.path.isfile(file_path):\n",
    "    print(f\"Error: File '{file_name}' does not exist.\")\n",
    "else:\n",
    "    df=pd.read_csv(file_path)"
   ]
  },
  {
   "cell_type": "code",
   "execution_count": 10,
   "id": "2baed2ae",
   "metadata": {},
   "outputs": [
    {
     "name": "stdout",
     "output_type": "stream",
     "text": [
      "Enter bus Number: 519\n"
     ]
    }
   ],
   "source": [
    "#Only 519 buses\n",
    "bus_no = int(input(\"Enter bus Number: \"))\n",
    "df = df[df['Schedule Name'].str.contains(rf'\\b{bus_no}\\b')]"
   ]
  },
  {
   "cell_type": "code",
   "execution_count": 11,
   "id": "c9050ebb",
   "metadata": {},
   "outputs": [
    {
     "name": "stdout",
     "output_type": "stream",
     "text": [
      "['04-02-2019' '01-02-2019' '03-02-2019' '04-01-2019']\n",
      "['04-02-2019' '01-02-2019' '03-02-2019' '04-01-2019']\n"
     ]
    }
   ],
   "source": [
    "cols=['Schedule Name','Adult','From Stage','To Stage','Trip Start Time','Trip End Time','Source','Destination']\n",
    "df=df[cols]"
   ]
  },
  {
   "cell_type": "code",
   "execution_count": null,
   "id": "2eeee0a9",
   "metadata": {},
   "outputs": [],
   "source": [
    "source_stage=input(\"Enter source: \")\n",
    "destination_stage=input(\"Enter destination: \")\n",
    "df=df[(df['Source']==source_stage) & (df['Destination']==destination_stage)]\n",
    "\n",
    "# Convert the trip start time and end time columns to datetime objects\n",
    "df['Trip Start Time'] = pd.to_datetime(df['Trip Start Time'], format='%H:%M:%S')\n",
    "df['Trip End Time'] = pd.to_datetime(df['Trip End Time'], format='%H:%M:%S')\n",
    "\n",
    "print(\"\\t\\t\\t\\tBoarding Time\\t\\t\\t\\t\")\n",
    "# values of start time and end time \n",
    "start=input(\"Enter Start time: \")\n",
    "end=input(\"Enter End time: \")\n",
    "start_time = pd.to_datetime(start).time()\n",
    "end_time = pd.to_datetime(end).time()\n",
    "\n",
    "df = df[(df['Trip Start Time'].dt.time >= start_time) & (df['Trip Start Time'].dt.time < end_time)]"
   ]
  },
  {
   "cell_type": "code",
   "execution_count": null,
   "id": "b761d9ac",
   "metadata": {},
   "outputs": [],
   "source": [
    "bus_stages = [\n",
    "    'T.NAGAR', 'SAIDAPET', 'ANNA UNIV', 'WPTC', 'SRP TOOLS',\n",
    "    'KANDANCHAV', 'THORAIPAKKAM', 'M K CHAVADI', 'KARAPAKKAM',\n",
    "    'SHOLINGANALLUR', 'KUMARAN NG', 'CHEMMANCHE', 'NAVALUR',\n",
    "    'SIPCOT', 'CHURCH', 'PAL. CHEMI', 'HINDUSTAN', 'KELAMBAKKAM',\n",
    "    'KOMAN NAGAR', 'ENGG', 'CHENGAMMAL', 'KALAVAKKAM','THIRUPORUR'\n",
    "]\n",
    "\n",
    "#assigning numbers from 0 to length of bus stages\n",
    "stage_mapping = {stage: i for i, stage in enumerate(bus_stages)}\n",
    "\n",
    "df['From Stage'] = df['From Stage'].map(stage_mapping)\n",
    "df['To Stage'] = df['To Stage'].map(stage_mapping)\n",
    "df.dropna(subset=['From Stage', 'To Stage'], inplace=True)\n",
    "\n",
    "# Create an empty OD matrix with stage names as indexes and columns\n",
    "od_matrix = pd.DataFrame(index=bus_stages, columns=bus_stages).fillna(0)\n",
    "\n",
    "# Populate the matrix \n",
    "for index, row in df.iterrows():\n",
    "    source = bus_stages[int(row['From Stage'])]\n",
    "    destination = bus_stages[int(row['To Stage'])]\n",
    "    adult_count = row['Adult']\n",
    "    if not pd.isna(adult_count):\n",
    "        od_matrix.loc[source, destination] += adult_count\n",
    "    else:\n",
    "        pass\n",
    "\n",
    "od_matrix['Boarding'] = od_matrix.sum(axis=1)\n",
    "od_matrix.loc['ALIGHTING', :] = od_matrix.sum(axis=0)\n",
    "\n",
    "od_matrix\n"
   ]
  },
  {
   "cell_type": "code",
   "execution_count": null,
   "id": "c34cfa7e",
   "metadata": {},
   "outputs": [],
   "source": [
    "store_file=input(\"Enter store file \")\n",
    "od_matrix.to_excel(f\"{store_file}.xlsx\")"
   ]
  }
 ],
 "metadata": {
  "kernelspec": {
   "display_name": "Python 3 (ipykernel)",
   "language": "python",
   "name": "python3"
  },
  "language_info": {
   "codemirror_mode": {
    "name": "ipython",
    "version": 3
   },
   "file_extension": ".py",
   "mimetype": "text/x-python",
   "name": "python",
   "nbconvert_exporter": "python",
   "pygments_lexer": "ipython3",
   "version": "3.11.5"
  }
 },
 "nbformat": 4,
 "nbformat_minor": 5
}
