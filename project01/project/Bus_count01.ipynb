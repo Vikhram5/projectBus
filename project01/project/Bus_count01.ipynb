{
 "cells": [
  {
   "cell_type": "code",
   "execution_count": 7,
   "id": "15dbeb15",
   "metadata": {
    "scrolled": true
   },
   "outputs": [
    {
     "name": "stdout",
     "output_type": "stream",
     "text": [
      "Enter File Name: 05-02-19.csv\n",
      "Enter 'up' or 'down': up\n"
     ]
    }
   ],
   "source": [
    "import pandas as pd\n",
    "import numpy as np\n",
    "import os \n",
    "\n",
    "#input for any file name\n",
    "file_name=input(\"Enter File Name: \")\n",
    "journey=input(\"Enter 'up' or 'down': \").lower()\n",
    "file_path=os.path.join('week_data',journey, file_name)\n",
    "\n",
    "if not os.path.isfile(file_path):\n",
    "    print(f\"Error: File '{file_name}' does not exist.\")\n",
    "else:\n",
    "    df=pd.read_csv(file_path)"
   ]
  },
  {
   "cell_type": "code",
   "execution_count": 8,
   "id": "9b13242e",
   "metadata": {
    "scrolled": false
   },
   "outputs": [
    {
     "name": "stdout",
     "output_type": "stream",
     "text": [
      "Enter bus Number: 519\n"
     ]
    }
   ],
   "source": [
    "#Only 519 buses\n",
    "bus_no = int(input(\"Enter bus Number: \"))\n",
    "df = df[df['Schedule Name'].str.contains(rf'\\b{bus_no}\\b')]"
   ]
  },
  {
   "cell_type": "code",
   "execution_count": 9,
   "id": "b47064ef",
   "metadata": {},
   "outputs": [
    {
     "name": "stdout",
     "output_type": "stream",
     "text": [
      "Enter source: T.NAGAR\n",
      "Enter destination: THIRUPORUR\n"
     ]
    },
    {
     "data": {
      "text/html": [
       "<div>\n",
       "<style scoped>\n",
       "    .dataframe tbody tr th:only-of-type {\n",
       "        vertical-align: middle;\n",
       "    }\n",
       "\n",
       "    .dataframe tbody tr th {\n",
       "        vertical-align: top;\n",
       "    }\n",
       "\n",
       "    .dataframe thead th {\n",
       "        text-align: right;\n",
       "    }\n",
       "</style>\n",
       "<table border=\"1\" class=\"dataframe\">\n",
       "  <thead>\n",
       "    <tr style=\"text-align: right;\">\n",
       "      <th></th>\n",
       "      <th>Hour</th>\n",
       "      <th>Bus Count</th>\n",
       "    </tr>\n",
       "  </thead>\n",
       "  <tbody>\n",
       "    <tr>\n",
       "      <th>0</th>\n",
       "      <td>0-1</td>\n",
       "      <td>5</td>\n",
       "    </tr>\n",
       "    <tr>\n",
       "      <th>1</th>\n",
       "      <td>1-2</td>\n",
       "      <td>1</td>\n",
       "    </tr>\n",
       "    <tr>\n",
       "      <th>2</th>\n",
       "      <td>4-5</td>\n",
       "      <td>1</td>\n",
       "    </tr>\n",
       "    <tr>\n",
       "      <th>3</th>\n",
       "      <td>5-6</td>\n",
       "      <td>6</td>\n",
       "    </tr>\n",
       "    <tr>\n",
       "      <th>4</th>\n",
       "      <td>6-7</td>\n",
       "      <td>7</td>\n",
       "    </tr>\n",
       "    <tr>\n",
       "      <th>5</th>\n",
       "      <td>7-8</td>\n",
       "      <td>3</td>\n",
       "    </tr>\n",
       "    <tr>\n",
       "      <th>6</th>\n",
       "      <td>8-9</td>\n",
       "      <td>8</td>\n",
       "    </tr>\n",
       "    <tr>\n",
       "      <th>7</th>\n",
       "      <td>9-10</td>\n",
       "      <td>4</td>\n",
       "    </tr>\n",
       "    <tr>\n",
       "      <th>8</th>\n",
       "      <td>10-11</td>\n",
       "      <td>7</td>\n",
       "    </tr>\n",
       "    <tr>\n",
       "      <th>9</th>\n",
       "      <td>11-12</td>\n",
       "      <td>3</td>\n",
       "    </tr>\n",
       "    <tr>\n",
       "      <th>10</th>\n",
       "      <td>12-13</td>\n",
       "      <td>7</td>\n",
       "    </tr>\n",
       "    <tr>\n",
       "      <th>11</th>\n",
       "      <td>13-14</td>\n",
       "      <td>9</td>\n",
       "    </tr>\n",
       "    <tr>\n",
       "      <th>12</th>\n",
       "      <td>14-15</td>\n",
       "      <td>4</td>\n",
       "    </tr>\n",
       "    <tr>\n",
       "      <th>13</th>\n",
       "      <td>15-16</td>\n",
       "      <td>6</td>\n",
       "    </tr>\n",
       "    <tr>\n",
       "      <th>14</th>\n",
       "      <td>16-17</td>\n",
       "      <td>5</td>\n",
       "    </tr>\n",
       "    <tr>\n",
       "      <th>15</th>\n",
       "      <td>17-18</td>\n",
       "      <td>7</td>\n",
       "    </tr>\n",
       "    <tr>\n",
       "      <th>16</th>\n",
       "      <td>18-19</td>\n",
       "      <td>3</td>\n",
       "    </tr>\n",
       "    <tr>\n",
       "      <th>17</th>\n",
       "      <td>19-20</td>\n",
       "      <td>3</td>\n",
       "    </tr>\n",
       "    <tr>\n",
       "      <th>18</th>\n",
       "      <td>20-21</td>\n",
       "      <td>1</td>\n",
       "    </tr>\n",
       "    <tr>\n",
       "      <th>19</th>\n",
       "      <td>21-22</td>\n",
       "      <td>4</td>\n",
       "    </tr>\n",
       "    <tr>\n",
       "      <th>20</th>\n",
       "      <td>22-23</td>\n",
       "      <td>2</td>\n",
       "    </tr>\n",
       "  </tbody>\n",
       "</table>\n",
       "</div>"
      ],
      "text/plain": [
       "     Hour  Bus Count\n",
       "0     0-1          5\n",
       "1     1-2          1\n",
       "2     4-5          1\n",
       "3     5-6          6\n",
       "4     6-7          7\n",
       "5     7-8          3\n",
       "6     8-9          8\n",
       "7    9-10          4\n",
       "8   10-11          7\n",
       "9   11-12          3\n",
       "10  12-13          7\n",
       "11  13-14          9\n",
       "12  14-15          4\n",
       "13  15-16          6\n",
       "14  16-17          5\n",
       "15  17-18          7\n",
       "16  18-19          3\n",
       "17  19-20          3\n",
       "18  20-21          1\n",
       "19  21-22          4\n",
       "20  22-23          2"
      ]
     },
     "execution_count": 9,
     "metadata": {},
     "output_type": "execute_result"
    }
   ],
   "source": [
    "cols=['Schedule Name','Trip Start Time','Source','Destination']\n",
    "df=df[cols]\n",
    "df=df.drop_duplicates()\n",
    "\n",
    "source_stage=input(\"Enter source: \")\n",
    "destination_stage=input(\"Enter destination: \")\n",
    "df=df[(df['Source']==source_stage) & (df['Destination']==destination_stage)]\n",
    "\n",
    "df['Trip Start Time'] = pd.to_datetime(df['Trip Start Time'], format='%H:%M:%S')\n",
    "df['Hour']=df['Trip Start Time'].dt.hour\n",
    "\n",
    "cols=['Schedule Name','Hour']\n",
    "\n",
    "bus_df=df.groupby('Hour')['Schedule Name'].count().reset_index()\n",
    "bus_df.columns=['Hour','Bus Count']\n",
    "\n",
    "def hour_range(hour):\n",
    "    if hour==23:\n",
    "        return f\"{hour}-0\"\n",
    "    else:\n",
    "        return f\"{hour}-{hour+1}\"\n",
    "bus_df['Hour'] = bus_df['Hour'].apply(hour_range)\n",
    "bus_df"
   ]
  },
  {
   "cell_type": "code",
   "execution_count": null,
   "id": "e138250f",
   "metadata": {},
   "outputs": [],
   "source": []
  },
  {
   "cell_type": "code",
   "execution_count": null,
   "id": "a73fc95e",
   "metadata": {},
   "outputs": [],
   "source": []
  },
  {
   "cell_type": "code",
   "execution_count": null,
   "id": "9000bf74",
   "metadata": {},
   "outputs": [],
   "source": []
  },
  {
   "cell_type": "code",
   "execution_count": null,
   "id": "ccc45aa4",
   "metadata": {},
   "outputs": [],
   "source": []
  }
 ],
 "metadata": {
  "kernelspec": {
   "display_name": "Python 3 (ipykernel)",
   "language": "python",
   "name": "python3"
  },
  "language_info": {
   "codemirror_mode": {
    "name": "ipython",
    "version": 3
   },
   "file_extension": ".py",
   "mimetype": "text/x-python",
   "name": "python",
   "nbconvert_exporter": "python",
   "pygments_lexer": "ipython3",
   "version": "3.11.5"
  }
 },
 "nbformat": 4,
 "nbformat_minor": 5
}
